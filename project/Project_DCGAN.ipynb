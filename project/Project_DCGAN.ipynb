{
 "cells": [
  {
   "cell_type": "code",
   "execution_count": 1,
   "id": "3372883d",
   "metadata": {},
   "outputs": [
    {
     "name": "stdout",
     "output_type": "stream",
     "text": [
      "Success!\n"
     ]
    }
   ],
   "source": [
    "import torch\n",
    "import torch.nn as nn\n",
    "import torch.optim as optim\n",
    "import torchvision\n",
    "import torchvision.datasets as datasets\n",
    "import torchvision.transforms as transforms\n",
    "from torch.utils.data import DataLoader\n",
    "from torch.utils.tensorboard import SummaryWriter\n",
    "from DCGAN import Discriminator, Generator, initialize_weights\n",
    "\n",
    "# 训练时的超参数\n",
    "device = torch.device(\"cuda\" if torch.cuda.is_available() else \"cpu\")\n",
    "\n",
    "LEARING_RATE = 2e-4\n",
    "BATCH_SIZE = 128\n",
    "IMAGE_SIZE = 64\n",
    "CHANNELS_IMG = 3   # RGB\n",
    "Z_DIM = 100        # 噪声维度\n",
    "NUM_EPOCH = 5\n",
    "FEATURES_DISC = 64\n",
    "FEATURES_GEN = 64\n"
   ]
  },
  {
   "cell_type": "code",
   "execution_count": 2,
   "id": "a423da9c",
   "metadata": {},
   "outputs": [],
   "source": [
    "# 定义图像处理的参数\n",
    "transforms =torchvision.transforms.Compose(\n",
    "    [\n",
    "        torchvision.transforms.Resize(IMAGE_SIZE),\n",
    "        torchvision.transforms.ToTensor(),\n",
    "        torchvision.transforms.Normalize([0.5 for _ in range(CHANNELS_IMG)], [0.5 for _ in range(CHANNELS_IMG)])\n",
    "    ])\n",
    "\n",
    "# dataset\n",
    "dataset = datasets.ImageFolder(root=\"data/Bangs/\", transform=transforms)                 # RGB\n",
    "\n",
    "loader = DataLoader(dataset, batch_size=BATCH_SIZE, shuffle=True)\n",
    "\n",
    "# 初始化生成器和鉴别器\n",
    "gen = Generator(Z_DIM, CHANNELS_IMG, FEATURES_GEN).to(device)             # （噪声影像的通道数、特征图的通道数）\n",
    "disc = Discriminator(CHANNELS_IMG, FEATURES_DISC).to(device)              # （图像的通道数、特征图的通道数）\n",
    "\n",
    "# 初始化权重参数\n",
    "initialize_weights(gen)\n",
    "initialize_weights(disc)\n",
    "\n",
    "# 定义生成器和鉴别器的优化器\n",
    "opt_gen = optim.Adam(gen.parameters(), lr=LEARING_RATE, betas=(0.5, 0.999))\n",
    "opt_disd = optim.Adam(disc.parameters(), lr=LEARING_RATE, betas=(0.5, 0.999))\n",
    "\n",
    "# 损失函数\n",
    "criterion = nn.BCELoss()\n",
    "\n",
    "# 噪声影像\n",
    "fixed_noise = torch.randn(32, Z_DIM, 1, 1).to(device)\n",
    "\n",
    "# 生成文件的存储路径\n",
    "writer_real = SummaryWriter(\"result/log/CelebFace/Bangs/real\")                                       \n",
    "writer_fake = SummaryWriter(\"result/log/CelebFace/Bangs/fake\")\n",
    "\n",
    "# 模型改为训练模式（启用BN层）\n",
    "gen.train()\n",
    "disc.train()\n",
    "step = 0"
   ]
  },
  {
   "cell_type": "code",
   "execution_count": 3,
   "id": "4a8644c8",
   "metadata": {},
   "outputs": [
    {
     "name": "stdout",
     "output_type": "stream",
     "text": [
      "Epoch [0/5] Batch 0/240                   Loss D: 0.6904, loss G: 0.8190 \n",
      "Epoch [0/5] Batch 100/240                   Loss D: 0.0156, loss G: 4.1481 \n",
      "Epoch [0/5] Batch 200/240                   Loss D: 0.0082, loss G: 4.7379 \n",
      "Epoch [1/5] Batch 0/240                   Loss D: 0.0052, loss G: 5.1393 \n",
      "Epoch [1/5] Batch 100/240                   Loss D: 0.0025, loss G: 5.7877 \n",
      "Epoch [1/5] Batch 200/240                   Loss D: 0.0015, loss G: 6.2970 \n",
      "Epoch [2/5] Batch 0/240                   Loss D: 0.0013, loss G: 6.4427 \n",
      "Epoch [2/5] Batch 100/240                   Loss D: 0.0009, loss G: 6.8716 \n",
      "Epoch [2/5] Batch 200/240                   Loss D: 0.0006, loss G: 7.2573 \n",
      "Epoch [3/5] Batch 0/240                   Loss D: 0.0005, loss G: 7.3762 \n",
      "Epoch [3/5] Batch 100/240                   Loss D: 0.0004, loss G: 7.6401 \n",
      "Epoch [3/5] Batch 200/240                   Loss D: 0.0003, loss G: 7.9486 \n",
      "Epoch [4/5] Batch 0/240                   Loss D: 0.0003, loss G: 8.0371 \n",
      "Epoch [4/5] Batch 100/240                   Loss D: 0.0002, loss G: 8.2996 \n",
      "Epoch [4/5] Batch 200/240                   Loss D: 0.0002, loss G: 8.4328 \n"
     ]
    }
   ],
   "source": [
    "# 开始训练\n",
    "for epoch in range(NUM_EPOCH):\n",
    "    for batch_idx, (real, _) in enumerate(loader):                                         # 遍历加载数据\n",
    "        real = real.to(device)                                                             # 展开到GPU上\n",
    "        noise = torch.randn(BATCH_SIZE, Z_DIM, 1, 1).to(device)                            # 生成噪声影像\n",
    "        fake = gen(noise)                                                                  # 利用噪声影像生成的假的影像\n",
    "\n",
    "        # 训练鉴别器  损失函数：max log(D(x)) + log(1 - D(G(z)))\n",
    "        disc_real = disc(real).reshape(-1)\n",
    "        loss_disc_real = criterion(disc_real, torch.ones_like(disc_real))                  # --- 得log(D(real))\n",
    "        disc_fake = disc(fake.detach()).reshape(-1)\n",
    "        loss_disc_fake = criterion(disc_fake, torch.zeros_like(disc_fake))                 # --- 得log(1-D(G(z)))\n",
    "        loss_disc = (loss_disc_fake + loss_disc_real)/2\n",
    "\n",
    "        disc.zero_grad()\n",
    "        loss_disc.backward()\n",
    "        opt_disd.step()\n",
    "\n",
    "        # 训练生成器 min log(1-D(G))------ max log(D(G(z)))\n",
    "        output = disc(fake).reshape(-1)\n",
    "        loss_gen = criterion(output, torch.ones_like(output))                              # ———— 得log(D(G(z))\n",
    "        gen.zero_grad()\n",
    "        loss_gen.backward()\n",
    "        opt_gen.step()\n",
    "\n",
    "        # 输处损失值等\n",
    "        if batch_idx % 100 == 0:\n",
    "            print(\n",
    "                f\"Epoch [{epoch}/{NUM_EPOCH}] Batch {batch_idx}/{len(loader)} \\\n",
    "                  Loss D: {loss_disc:.4f}, loss G: {loss_gen:.4f} \"\n",
    "            )\n",
    "            with torch.no_grad():\n",
    "                fake = gen(fixed_noise)\n",
    "                # 输出32个示例\n",
    "                img_grid_real = torchvision.utils.make_grid(\n",
    "                    real[:32], normalize=True\n",
    "                )\n",
    "                img_grid_fake = torchvision.utils.make_grid(\n",
    "                    fake[:32], normalize=True\n",
    "                )\n",
    "                writer_real.add_image(\"Real\", img_grid_real, global_step=step)\n",
    "                writer_fake.add_image(\"Fake\", img_grid_fake, global_step=step)\n",
    "\n",
    "            step += 1\n",
    "\n",
    "\n",
    "# 显示结果 tensorboard --logdir=\"D:\\DCGAN_doc\\result\\log2\""
   ]
  },
  {
   "cell_type": "code",
   "execution_count": 4,
   "id": "8aae59ae",
   "metadata": {},
   "outputs": [
    {
     "ename": "SyntaxError",
     "evalue": "cannot assign to operator (3936715073.py, line 1)",
     "output_type": "error",
     "traceback": [
      "\u001b[0;36m  File \u001b[0;32m\"/tmp/ipykernel_14511/3936715073.py\"\u001b[0;36m, line \u001b[0;32m1\u001b[0m\n\u001b[0;31m    tensorboard --logdir=\"\\result\\log\\CelebFace\\Bangs\\\"\u001b[0m\n\u001b[0m    ^\u001b[0m\n\u001b[0;31mSyntaxError\u001b[0m\u001b[0;31m:\u001b[0m cannot assign to operator\n"
     ]
    }
   ],
   "source": [
    "# tensorboard --logdir=\"\\result\\log\\CelebFace\\Bangs\\\""
   ]
  },
  {
   "cell_type": "code",
   "execution_count": null,
   "id": "9ca7983e",
   "metadata": {},
   "outputs": [],
   "source": []
  }
 ],
 "metadata": {
  "kernelspec": {
   "display_name": "Python 3 (ipykernel)",
   "language": "python",
   "name": "python3"
  },
  "language_info": {
   "codemirror_mode": {
    "name": "ipython",
    "version": 3
   },
   "file_extension": ".py",
   "mimetype": "text/x-python",
   "name": "python",
   "nbconvert_exporter": "python",
   "pygments_lexer": "ipython3",
   "version": "3.9.5"
  }
 },
 "nbformat": 4,
 "nbformat_minor": 5
}
